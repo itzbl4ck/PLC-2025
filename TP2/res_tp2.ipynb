{
 "cells": [
  {
   "cell_type": "markdown",
   "id": "726afcd9",
   "metadata": {},
   "source": [
    "# TPC2: Conversor de MarkDown para HTML\n",
    "\n",
    "Este trabalho implementa um conversor básico de Markdown para HTML, suportando os seguintes elementos:\n",
    "- Cabeçalhos (h1, h2, h3)\n",
    "- Formatação de texto (**bold**, *itálico*)\n",
    "- Listas numeradas\n",
    "- Links e imagens"
   ]
  },
  {
   "cell_type": "markdown",
   "id": "ac54753a",
   "metadata": {},
   "source": [
    "## Importação e Funções de Conversão\n",
    "\n",
    "As funções seguintes processam cada elemento de Markdown:"
   ]
  },
  {
   "cell_type": "code",
   "execution_count": null,
   "id": "8fc9839e",
   "metadata": {},
   "outputs": [],
   "source": [
    "import re \n",
    "\n",
    "# 1. Cabeçalhos\n",
    "def headingF(m):\n",
    "    level = len(m.group(1))\n",
    "    text = m.group(2).strip()\n",
    "    return f\"<h{level}>{text}</h{level}>\"\n",
    "\n",
    "# 2. Bold\n",
    "def boldF(m):\n",
    "    return f\"<b>{m.group(1)}</b>\"\n",
    "\n",
    "# 3. Itálico\n",
    "def italicF(m):\n",
    "    return f\"<i>{m.group(1)}</i>\"\n",
    "\n",
    "# 4. Lista numerada\n",
    "def numberedListF(m):\n",
    "    items = m.group(0).strip().split('\\n')\n",
    "    html = \"<ol>\\n\"\n",
    "    for item in items:\n",
    "        text = re.sub(r'^\\d+\\.\\s+', '', item)\n",
    "        html += f\"<li>{text}</li>\\n\"\n",
    "    html += \"</ol>\"\n",
    "    return html\n",
    "\n",
    "# 5. Link\n",
    "def linkF(m):\n",
    "    return f\"<a href=\\\"{m.group(2)}\\\">{m.group(1)}</a>\"\n",
    "\n",
    "# 6. Imagem\n",
    "def imageF(m):\n",
    "    return f\"<img src=\\\"{m.group(2)}\\\" alt=\\\"{m.group(1)}\\\"/>\"\n",
    "\n",
    "# Bold + Itálico\n",
    "def boldinitalic(m):\n",
    "    return f\"<b><i>{m.group(1)}</i></b>\"\n",
    "\n",
    "def markdown_to_html(text):\n",
    "    # Listas numeradas \n",
    "    text = re.sub(r'(?:^\\d+\\.\\s+.+$\\n?)+', numberedListF, text, flags=re.MULTILINE)\n",
    "    \n",
    "    # Cabeçalhos\n",
    "    text = re.sub(r'^(#{1,3})\\s+(.+)$', headingF, text, flags=re.MULTILINE)\n",
    "    \n",
    "    # Imagens\n",
    "    text = re.sub(r\"!\\[(.*?)\\]\\((.*?)\\)\", imageF, text)\n",
    "    \n",
    "    # Links\n",
    "    text = re.sub(r\"\\[(.*?)\\]\\((.*?)\\)\", linkF, text)\n",
    "    \n",
    "    # Bold + Itálico\n",
    "    text = re.sub(r\"\\*\\*\\*(.*?)\\*\\*\\*\",boldinitalic,text)\n",
    "\n",
    "    # Bold\n",
    "    text = re.sub(r\"\\*\\*(.*?)\\*\\*\", boldF, text)\n",
    "    \n",
    "    # Itálico\n",
    "    text = re.sub(r\"\\*(.*?)\\*\", italicF, text)\n",
    "    \n",
    "    return text\n",
    "\n",
    "def tp2():\n",
    "    \n",
    "    test_text = \"\"\"# Título Principal\n",
    "## Subtítulo\n",
    "Este é um ***exemplo*** com *itálico*.\n",
    "Como pode ser consultado em [página da UC](http://www.uc.pt)\n",
    "Como se vê na imagem seguinte: \\![imagem dum coelho](http://www.coellho.com) ...\n",
    "1. Primeiro item\n",
    "2. **Segundo item**\n",
    "3. *Terceiro item*\n",
    "4. Quarto item\"\"\"\n",
    "    \n",
    "    return markdown_to_html(test_text)"
   ]
  },
  {
   "cell_type": "markdown",
   "id": "d79d13cf",
   "metadata": {},
   "source": [
    "## Exemplo de Teste\n",
    "\n",
    "Vamos testar o conversor com um exemplo completo que inclui todos os elementos suportados:"
   ]
  },
  {
   "cell_type": "code",
   "execution_count": 6,
   "id": "554cee83",
   "metadata": {},
   "outputs": [
    {
     "name": "stdout",
     "output_type": "stream",
     "text": [
      "<h1>Título Principal</h1>\n",
      "<h2>Subtítulo</h2>\n",
      "Este é um <b><i>exemplo</i></b> com <i>itálico</i>.\n",
      "Como pode ser consultado em <a href=\"http://www.uc.pt\">página da UC</a>\n",
      "Como se vê na imagem seguinte: \\<img src=\"http://www.coellho.com\" alt=\"imagem dum coelho\"/> ...\n",
      "<ol>\n",
      "<li>Primeiro item</li>\n",
      "<li><b>Segundo item</b></li>\n",
      "<li><i>Terceiro item</i></li>\n",
      "<li>Quarto item</li>\n",
      "</ol>\n"
     ]
    }
   ],
   "source": [
    "# Executar o conversor\n",
    "resultado = tp2()\n",
    "print(resultado)"
   ]
  },
  {
   "cell_type": "markdown",
   "id": "486ef53c",
   "metadata": {},
   "source": [
    "## Resultado Esperado\n",
    "\n",
    "O output HTML deve conter:\n",
    "- Tags `<h1>`, `<h2>`, `<h3>` para os cabeçalhos\n",
    "- Tags `<b>` e `<i>` para formatação\n",
    "- Tag `<ol>` com `<li>` para listas numeradas\n",
    "- Tags `<a>` para links\n",
    "- Tags `<img>` para imagens"
   ]
  }
 ],
 "metadata": {
  "kernelspec": {
   "display_name": "Python 3",
   "language": "python",
   "name": "python3"
  },
  "language_info": {
   "codemirror_mode": {
    "name": "ipython",
    "version": 3
   },
   "file_extension": ".py",
   "mimetype": "text/x-python",
   "name": "python",
   "nbconvert_exporter": "python",
   "pygments_lexer": "ipython3",
   "version": "3.11.2"
  }
 },
 "nbformat": 4,
 "nbformat_minor": 5
}
